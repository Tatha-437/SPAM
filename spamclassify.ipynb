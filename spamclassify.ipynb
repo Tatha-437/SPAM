{
  "nbformat": 4,
  "nbformat_minor": 0,
  "metadata": {
    "colab": {
      "name": "spamclassify.ipynb",
      "provenance": []
    },
    "kernelspec": {
      "name": "python2",
      "display_name": "Python 2"
    }
  },
  "cells": [
    {
      "cell_type": "code",
      "metadata": {
        "id": "tyl5IBUlzVzc",
        "colab_type": "code",
        "colab": {}
      },
      "source": [
        "# This Python 3 environment comes with many helpful analytics libraries installed\n",
        "# It is defined by the kaggle/python docker image: https://github.com/kaggle/docker-python\n",
        "# For example, here's several helpful packages to load in \n",
        "\n",
        "import numpy as np # linear algebra\n",
        "import pandas as pd # data processing, CSV file I/O (e.g. pd.read_csv)\n",
        "\n",
        "# Input data files are available in the \"../input/\" directory.\n",
        "# For example, running this (by clicking run or pressing Shift+Enter) will list the files in the input directory\n",
        "\n",
        "from subprocess import check_output\n",
        "#print(check_output([\"ls\", \"../input\"]).decode(\"utf8\"))\n",
        "\n",
        "# Any results you write to the current directory are saved as output."
      ],
      "execution_count": 0,
      "outputs": []
    },
    {
      "cell_type": "code",
      "metadata": {
        "id": "wXSIlOAIzWib",
        "colab_type": "code",
        "colab": {
          "base_uri": "https://localhost:8080/",
          "height": 168
        },
        "outputId": "df6f9eaa-dd93-4e0a-b482-4ab848c69668"
      },
      "source": [
        "DATA_FILE = 'spam.csv'\n",
        "df = pd.read_csv(DATA_FILE,encoding='latin-1')\n",
        "print(df.head())\n",
        "\n",
        "tags = df.v1\n",
        "texts = df.v2\n",
        "from keras.models import Sequential\n",
        "import matplotlib.pyplot as plt\n",
        "from keras.layers import Dense, Dropout, Activation\n",
        "from keras.layers import Embedding\n",
        "from keras.layers import Conv1D, GlobalMaxPooling1D\n",
        "from keras.preprocessing.text import Tokenizer\n",
        "from keras.preprocessing import sequence\n",
        "from sklearn.preprocessing import LabelEncoder\n",
        "import time\n",
        "from keras import metrics\n",
        "print('import done')"
      ],
      "execution_count": 16,
      "outputs": [
        {
          "output_type": "stream",
          "text": [
            "     v1  ... Unnamed: 4\n",
            "0   ham  ...        NaN\n",
            "1   ham  ...        NaN\n",
            "2  spam  ...        NaN\n",
            "3   ham  ...        NaN\n",
            "4   ham  ...        NaN\n",
            "\n",
            "[5 rows x 5 columns]\n",
            "import done\n"
          ],
          "name": "stdout"
        }
      ]
    },
    {
      "cell_type": "code",
      "metadata": {
        "id": "6ewEA9-lzbX_",
        "colab_type": "code",
        "colab": {
          "base_uri": "https://localhost:8080/",
          "height": 134
        },
        "outputId": "3a7aa207-c8a2-4b0e-d898-7d6c41df6ab4"
      },
      "source": [
        "num_max = 1000\n",
        "# preprocess\n",
        "le = LabelEncoder()\n",
        "tags = le.fit_transform(tags)\n",
        "tok = Tokenizer(num_words=num_max)\n",
        "tok.fit_on_texts(texts)\n",
        "mat_texts = tok.texts_to_matrix(texts,mode='count')\n",
        "print(tags[:5])\n",
        "print(mat_texts[:5])\n",
        "print(tags.shape,mat_texts.shape)\n"
      ],
      "execution_count": 17,
      "outputs": [
        {
          "output_type": "stream",
          "text": [
            "[0 0 1 0 0]\n",
            "[[0. 0. 0. ... 0. 0. 0.]\n",
            " [0. 0. 0. ... 0. 0. 0.]\n",
            " [0. 0. 3. ... 0. 0. 0.]\n",
            " [0. 0. 0. ... 0. 0. 0.]\n",
            " [0. 1. 1. ... 0. 0. 0.]]\n",
            "((5572,), (5572, 1000))\n"
          ],
          "name": "stdout"
        }
      ]
    },
    {
      "cell_type": "code",
      "metadata": {
        "id": "rGEn-hK4ze5R",
        "colab_type": "code",
        "colab": {}
      },
      "source": [
        "# try a simple model first\n",
        "\n",
        "def get_simple_model():\n",
        "    model = Sequential()\n",
        "    model.add(Dense(512, activation='relu', input_shape=(num_max,)))\n",
        "    model.add(Dropout(0.2))\n",
        "    model.add(Dense(256, activation='relu'))\n",
        "    model.add(Dropout(0.2))\n",
        "    model.add(Dense(1, activation='sigmoid'))\n",
        "    model.summary()\n",
        "    model.compile(loss='binary_crossentropy',\n",
        "              optimizer='adam',\n",
        "              metrics=['acc',metrics.binary_accuracy])\n",
        "    print('compile done')\n",
        "    return model\n"
      ],
      "execution_count": 0,
      "outputs": []
    },
    {
      "cell_type": "code",
      "metadata": {
        "id": "2kiAY5--zkVw",
        "colab_type": "code",
        "colab": {
          "base_uri": "https://localhost:8080/",
          "height": 692
        },
        "outputId": "4344459c-ad9b-4744-cb26-b55243c11bf3"
      },
      "source": [
        "def check_model(model,x,y):\n",
        "    model.fit(x,y,batch_size=32,epochs=10,verbose=1,validation_split=0.2)\n",
        "\n",
        "m = get_simple_model()\n",
        "check_model(m,mat_texts,tags)\n"
      ],
      "execution_count": 19,
      "outputs": [
        {
          "output_type": "stream",
          "text": [
            "_________________________________________________________________\n",
            "Layer (type)                 Output Shape              Param #   \n",
            "=================================================================\n",
            "dense_15 (Dense)             (None, 512)               512512    \n",
            "_________________________________________________________________\n",
            "dropout_11 (Dropout)         (None, 512)               0         \n",
            "_________________________________________________________________\n",
            "dense_16 (Dense)             (None, 256)               131328    \n",
            "_________________________________________________________________\n",
            "dropout_12 (Dropout)         (None, 256)               0         \n",
            "_________________________________________________________________\n",
            "dense_17 (Dense)             (None, 1)                 257       \n",
            "=================================================================\n",
            "Total params: 644,097\n",
            "Trainable params: 644,097\n",
            "Non-trainable params: 0\n",
            "_________________________________________________________________\n",
            "compile done\n",
            "Train on 4457 samples, validate on 1115 samples\n",
            "Epoch 1/10\n",
            "4457/4457 [==============================] - 3s 572us/step - loss: 0.1570 - acc: 0.9527 - binary_accuracy: 0.9527 - val_loss: 0.0739 - val_acc: 0.9803 - val_binary_accuracy: 0.9803\n",
            "Epoch 2/10\n",
            "4457/4457 [==============================] - 2s 402us/step - loss: 0.0302 - acc: 0.9921 - binary_accuracy: 0.9921 - val_loss: 0.0580 - val_acc: 0.9883 - val_binary_accuracy: 0.9883\n",
            "Epoch 3/10\n",
            "4457/4457 [==============================] - 2s 408us/step - loss: 0.0105 - acc: 0.9969 - binary_accuracy: 0.9969 - val_loss: 0.0700 - val_acc: 0.9865 - val_binary_accuracy: 0.9865\n",
            "Epoch 4/10\n",
            "4457/4457 [==============================] - 2s 415us/step - loss: 0.0044 - acc: 0.9984 - binary_accuracy: 0.9984 - val_loss: 0.0830 - val_acc: 0.9883 - val_binary_accuracy: 0.9883\n",
            "Epoch 5/10\n",
            "4457/4457 [==============================] - 2s 431us/step - loss: 0.0030 - acc: 0.9993 - binary_accuracy: 0.9993 - val_loss: 0.1006 - val_acc: 0.9883 - val_binary_accuracy: 0.9883\n",
            "Epoch 6/10\n",
            "4457/4457 [==============================] - 2s 439us/step - loss: 0.0021 - acc: 0.9996 - binary_accuracy: 0.9996 - val_loss: 0.1017 - val_acc: 0.9883 - val_binary_accuracy: 0.9883\n",
            "Epoch 7/10\n",
            "4457/4457 [==============================] - 2s 453us/step - loss: 0.0017 - acc: 0.9998 - binary_accuracy: 0.9998 - val_loss: 0.1054 - val_acc: 0.9883 - val_binary_accuracy: 0.9883\n",
            "Epoch 8/10\n",
            "4457/4457 [==============================] - 2s 454us/step - loss: 0.0016 - acc: 0.9998 - binary_accuracy: 0.9998 - val_loss: 0.1059 - val_acc: 0.9883 - val_binary_accuracy: 0.9883\n",
            "Epoch 9/10\n",
            "4457/4457 [==============================] - 2s 420us/step - loss: 0.0014 - acc: 0.9998 - binary_accuracy: 0.9998 - val_loss: 0.1127 - val_acc: 0.9883 - val_binary_accuracy: 0.9883\n",
            "Epoch 10/10\n",
            "4457/4457 [==============================] - 2s 448us/step - loss: 0.0015 - acc: 0.9998 - binary_accuracy: 0.9998 - val_loss: 0.1137 - val_acc: 0.9883 - val_binary_accuracy: 0.9883\n"
          ],
          "name": "stdout"
        }
      ]
    },
    {
      "cell_type": "code",
      "metadata": {
        "id": "d3KxqKNIzmwh",
        "colab_type": "code",
        "colab": {
          "base_uri": "https://localhost:8080/",
          "height": 151
        },
        "outputId": "1a22f28e-35d0-4adf-a927-fd81362804ae"
      },
      "source": [
        "# for cnn preproces\n",
        "max_len = 100\n",
        "cnn_texts_seq = tok.texts_to_sequences(texts)\n",
        "print(cnn_texts_seq[0])\n",
        "cnn_texts_mat = sequence.pad_sequences(cnn_texts_seq,maxlen=max_len)\n",
        "print(cnn_texts_mat[0])\n",
        "print(cnn_texts_mat.shape)"
      ],
      "execution_count": 22,
      "outputs": [
        {
          "output_type": "stream",
          "text": [
            "[50, 469, 841, 751, 657, 64, 8, 89, 121, 349, 147, 67, 58, 144]\n",
            "[  0   0   0   0   0   0   0   0   0   0   0   0   0   0   0   0   0   0\n",
            "   0   0   0   0   0   0   0   0   0   0   0   0   0   0   0   0   0   0\n",
            "   0   0   0   0   0   0   0   0   0   0   0   0   0   0   0   0   0   0\n",
            "   0   0   0   0   0   0   0   0   0   0   0   0   0   0   0   0   0   0\n",
            "   0   0   0   0   0   0   0   0   0   0   0   0   0   0  50 469 841 751\n",
            " 657  64   8  89 121 349 147  67  58 144]\n",
            "(5572, 100)\n"
          ],
          "name": "stdout"
        }
      ]
    },
    {
      "cell_type": "code",
      "metadata": {
        "id": "Z-nnti4CzohX",
        "colab_type": "code",
        "colab": {
          "base_uri": "https://localhost:8080/",
          "height": 810
        },
        "outputId": "2c8e94d8-85cb-486a-f220-ee12d2676be3"
      },
      "source": [
        "def get_cnn_model_v1():   \n",
        "    model = Sequential()\n",
        "    # we start off with an efficient embedding layer which maps\n",
        "    # our vocab indices into embedding_dims dimensions\n",
        "    # 1000 is num_max\n",
        "    model.add(Embedding(1000,\n",
        "                        20,\n",
        "                        input_length=max_len))\n",
        "    model.add(Dropout(0.2))\n",
        "    model.add(Conv1D(64,\n",
        "                     3,\n",
        "                     padding='valid',\n",
        "                     activation='relu',\n",
        "                     strides=1))\n",
        "    model.add(GlobalMaxPooling1D())\n",
        "    model.add(Dense(256))\n",
        "    model.add(Dropout(0.2))\n",
        "    model.add(Activation('relu'))\n",
        "    model.add(Dense(1))\n",
        "    model.add(Activation('sigmoid'))\n",
        "    model.summary()\n",
        "    model.compile(loss='binary_crossentropy',\n",
        "                  optimizer='adam',\n",
        "                  metrics=['acc',metrics.binary_accuracy])\n",
        "    return model\n",
        "\n",
        "m = get_cnn_model_v1()\n",
        "check_model(m,cnn_texts_mat,tags)"
      ],
      "execution_count": 23,
      "outputs": [
        {
          "output_type": "stream",
          "text": [
            "_________________________________________________________________\n",
            "Layer (type)                 Output Shape              Param #   \n",
            "=================================================================\n",
            "embedding_2 (Embedding)      (None, 100, 20)           20000     \n",
            "_________________________________________________________________\n",
            "dropout_13 (Dropout)         (None, 100, 20)           0         \n",
            "_________________________________________________________________\n",
            "conv1d_2 (Conv1D)            (None, 98, 64)            3904      \n",
            "_________________________________________________________________\n",
            "global_max_pooling1d_2 (Glob (None, 64)                0         \n",
            "_________________________________________________________________\n",
            "dense_18 (Dense)             (None, 256)               16640     \n",
            "_________________________________________________________________\n",
            "dropout_14 (Dropout)         (None, 256)               0         \n",
            "_________________________________________________________________\n",
            "activation_3 (Activation)    (None, 256)               0         \n",
            "_________________________________________________________________\n",
            "dense_19 (Dense)             (None, 1)                 257       \n",
            "_________________________________________________________________\n",
            "activation_4 (Activation)    (None, 1)                 0         \n",
            "=================================================================\n",
            "Total params: 40,801\n",
            "Trainable params: 40,801\n",
            "Non-trainable params: 0\n",
            "_________________________________________________________________\n",
            "Train on 4457 samples, validate on 1115 samples\n",
            "Epoch 1/10\n",
            "4457/4457 [==============================] - 3s 567us/step - loss: 0.3859 - acc: 0.8647 - binary_accuracy: 0.8647 - val_loss: 0.2748 - val_acc: 0.8700 - val_binary_accuracy: 0.8700\n",
            "Epoch 2/10\n",
            "4457/4457 [==============================] - 1s 322us/step - loss: 0.1602 - acc: 0.9417 - binary_accuracy: 0.9417 - val_loss: 0.0736 - val_acc: 0.9749 - val_binary_accuracy: 0.9749\n",
            "Epoch 3/10\n",
            "4457/4457 [==============================] - 1s 330us/step - loss: 0.0507 - acc: 0.9843 - binary_accuracy: 0.9843 - val_loss: 0.0529 - val_acc: 0.9839 - val_binary_accuracy: 0.9839\n",
            "Epoch 4/10\n",
            "4457/4457 [==============================] - 1s 336us/step - loss: 0.0322 - acc: 0.9910 - binary_accuracy: 0.9910 - val_loss: 0.0550 - val_acc: 0.9830 - val_binary_accuracy: 0.9830\n",
            "Epoch 5/10\n",
            "4457/4457 [==============================] - 1s 317us/step - loss: 0.0208 - acc: 0.9942 - binary_accuracy: 0.9942 - val_loss: 0.0550 - val_acc: 0.9857 - val_binary_accuracy: 0.9857\n",
            "Epoch 6/10\n",
            "4457/4457 [==============================] - 1s 315us/step - loss: 0.0129 - acc: 0.9969 - binary_accuracy: 0.9969 - val_loss: 0.0705 - val_acc: 0.9830 - val_binary_accuracy: 0.9830\n",
            "Epoch 7/10\n",
            "4457/4457 [==============================] - 1s 315us/step - loss: 0.0099 - acc: 0.9978 - binary_accuracy: 0.9978 - val_loss: 0.0738 - val_acc: 0.9839 - val_binary_accuracy: 0.9839\n",
            "Epoch 8/10\n",
            "4457/4457 [==============================] - 1s 322us/step - loss: 0.0073 - acc: 0.9975 - binary_accuracy: 0.9975 - val_loss: 0.0779 - val_acc: 0.9830 - val_binary_accuracy: 0.9830\n",
            "Epoch 9/10\n",
            "4457/4457 [==============================] - 1s 323us/step - loss: 0.0051 - acc: 0.9989 - binary_accuracy: 0.9989 - val_loss: 0.0870 - val_acc: 0.9821 - val_binary_accuracy: 0.9821\n",
            "Epoch 10/10\n",
            "4457/4457 [==============================] - 1s 326us/step - loss: 0.0050 - acc: 0.9984 - binary_accuracy: 0.9984 - val_loss: 0.0907 - val_acc: 0.9803 - val_binary_accuracy: 0.9803\n"
          ],
          "name": "stdout"
        }
      ]
    }
  ]
}